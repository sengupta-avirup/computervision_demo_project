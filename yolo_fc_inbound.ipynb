{
 "cells": [
  {
   "cell_type": "code",
   "execution_count": 38,
   "metadata": {},
   "outputs": [
    {
     "name": "stdout",
     "output_type": "stream",
     "text": [
      "Requirement already satisfied: numpy in c:\\users\\datad\\appdata\\local\\programs\\python\\python39\\lib\\site-packages (1.20.2)\n",
      "Requirement already satisfied: future in c:\\users\\datad\\appdata\\local\\programs\\python\\python39\\lib\\site-packages (1.0.0)\n"
     ]
    }
   ],
   "source": [
    "!pip install --user --upgrade pip -q\n",
    "!pip install opencv_python -q\n",
    "!pip install ultralytics -q\n",
    "!pip install cvzone -q\n",
    "!pip install labelImg -q\n",
    "!pip install numpy\n",
    "!pip install future"
   ]
  },
  {
   "cell_type": "code",
   "execution_count": 49,
   "metadata": {},
   "outputs": [],
   "source": [
    "import cv2    \n",
    "import time\n",
    "import cv2\n",
    "import math\n",
    "import numpy as np\n",
    "from __future__ import print_function\n"
   ]
  },
  {
   "cell_type": "code",
   "execution_count": 53,
   "metadata": {},
   "outputs": [],
   "source": [
    "\n",
    "maxFrames = 20 # if you want 5 frames only.\n",
    "project_path = 'C:/Users/datad/Desktop/Yolo_FC_Inbound'\n",
    "video_clip_name = 'cr.mp4'"
   ]
  },
  {
   "cell_type": "code",
   "execution_count": 54,
   "metadata": {},
   "outputs": [],
   "source": [
    "cpt_ = 0\n",
    "cpt = 0\n",
    "seconds = 5\n",
    "cap=cv2.VideoCapture(video_clip_name)\n",
    "fps = cap.get(cv2.CAP_PROP_FPS) # Gets the frames per second\n",
    "multiplier = fps * seconds\n",
    "while cpt_ < maxFrames:\n",
    "    ret, frame = cap.read()\n",
    "    if not ret:\n",
    "        break\n",
    "    if cpt % multiplier == 0:\n",
    "        frame=cv2.resize(frame,(1080,500))\n",
    "        path_ = project_path + '/images/' + 'person_%d.jpg' %cpt_\n",
    "        cv2.imwrite(path_, frame)\n",
    "        cpt_ += 1\n",
    "    time.sleep(0.01)\n",
    "    cpt += 1\n",
    "    if cv2.waitKey(5)&0xFF==27:\n",
    "        break\n",
    "cap.release()   \n",
    "cv2.destroyAllWindows()"
   ]
  },
  {
   "cell_type": "code",
   "execution_count": 55,
   "metadata": {},
   "outputs": [
    {
     "name": "stdout",
     "output_type": "stream",
     "text": [
      "Downloading https://github.com/ultralytics/assets/releases/download/v8.1.0/yolov8n.pt to 'yolov8n.pt'...\n",
      "Ultralytics YOLOv8.1.25 🚀 Python-3.9.4 torch-2.1.0+cu118 CPU (Intel Core(TM) i7-8565U 1.80GHz)\n",
      "YOLOv8n summary (fused): 168 layers, 3151904 parameters, 0 gradients, 8.7 GFLOPs\n",
      "\n",
      "Downloading https://media.roboflow.com/notebooks/examples/dog.jpeg to 'dog.jpeg'...\n",
      "image 1/1 c:\\Users\\datad\\Desktop\\Yolo_FC_Inbound\\dog.jpeg: 640x384 1 person, 1 car, 1 dog, 118.4ms\n",
      "Speed: 5.8ms preprocess, 118.4ms inference, 10.1ms postprocess per image at shape (1, 3, 640, 384)\n",
      "Results saved to \u001b[1mruns\\detect\\predict\u001b[0m\n",
      "💡 Learn more at https://docs.ultralytics.com/modes/predict\n"
     ]
    },
    {
     "name": "stderr",
     "output_type": "stream",
     "text": [
      "\n",
      "  0%|          | 0.00/6.23M [00:00<?, ?B/s]\n",
      "  4%|▍         | 240k/6.23M [00:00<00:02, 2.38MB/s]\n",
      "  7%|▋         | 472k/6.23M [00:00<00:02, 2.13MB/s]\n",
      " 11%|█         | 704k/6.23M [00:00<00:02, 2.20MB/s]\n",
      " 16%|█▌        | 992k/6.23M [00:00<00:02, 2.48MB/s]\n",
      " 20%|██        | 1.27M/6.23M [00:00<00:01, 2.68MB/s]\n",
      " 25%|██▌       | 1.58M/6.23M [00:00<00:01, 2.85MB/s]\n",
      " 31%|███       | 1.91M/6.23M [00:00<00:01, 2.98MB/s]\n",
      " 36%|███▌      | 2.25M/6.23M [00:00<00:01, 3.15MB/s]\n",
      " 42%|████▏     | 2.64M/6.23M [00:00<00:01, 3.43MB/s]\n",
      " 48%|████▊     | 2.98M/6.23M [00:01<00:00, 3.47MB/s]\n",
      " 54%|█████▍    | 3.39M/6.23M [00:01<00:00, 3.69MB/s]\n",
      " 61%|██████▏   | 3.83M/6.23M [00:01<00:00, 3.96MB/s]\n",
      " 68%|██████▊   | 4.27M/6.23M [00:01<00:00, 4.06MB/s]\n",
      " 76%|███████▌  | 4.75M/6.23M [00:01<00:00, 4.34MB/s]\n",
      " 83%|████████▎ | 5.20M/6.23M [00:01<00:00, 4.36MB/s]\n",
      " 92%|█████████▏| 5.73M/6.23M [00:01<00:00, 4.66MB/s]\n",
      "100%|██████████| 6.23M/6.23M [00:01<00:00, 3.71MB/s]\n",
      "\n",
      "  0%|          | 0.00/104k [00:00<?, ?B/s]\n",
      "100%|██████████| 104k/104k [00:00<00:00, 1.61MB/s]\n"
     ]
    }
   ],
   "source": [
    "!yolo task=detect mode=predict model=yolov8n.pt conf=0.25 source='https://media.roboflow.com/notebooks/examples/dog.jpeg' save=True"
   ]
  },
  {
   "cell_type": "code",
   "execution_count": 57,
   "metadata": {},
   "outputs": [],
   "source": [
    "!yolo task=detect mode=train model=yolov8s.pt data='C:/Users/datad/Desktop/Yolo_FC_Inbound/data/data.yaml' epochs=100 imgsz=800 plots=True"
   ]
  }
 ],
 "metadata": {
  "kernelspec": {
   "display_name": "Python 3",
   "language": "python",
   "name": "python3"
  },
  "language_info": {
   "codemirror_mode": {
    "name": "ipython",
    "version": 3
   },
   "file_extension": ".py",
   "mimetype": "text/x-python",
   "name": "python",
   "nbconvert_exporter": "python",
   "pygments_lexer": "ipython3",
   "version": "3.9.4"
  }
 },
 "nbformat": 4,
 "nbformat_minor": 2
}
